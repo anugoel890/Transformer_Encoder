{
  "cells": [
    {
      "cell_type": "markdown",
      "source": [
        "## **Developing encoder based language model from scratch (for example: BERT) and then find the cosine similarity between the two example sentences. **"
      ],
      "metadata": {
        "id": "Z7iHF4TNsmlN"
      }
    },
    {
      "cell_type": "code",
      "execution_count": null,
      "metadata": {
        "id": "nd0OKejVboZ7"
      },
      "outputs": [],
      "source": [
        "import torch\n",
        "import torch.nn as nn\n",
        "import torch.nn.functional as F\n",
        "import math"
      ]
    },
    {
      "cell_type": "code",
      "execution_count": null,
      "metadata": {
        "id": "Urgx6zAjcDrw"
      },
      "outputs": [],
      "source": [
        "class FeedForward(nn.Module):\n",
        "  def __init__(self,d_embed,hidden_dim,dropout=0.1):\n",
        "    super(FeedForward,self).__init__()\n",
        "    self.fc1 = nn.Linear(d_embed,hidden_dim)\n",
        "    self.fc2 = nn.Linear(hidden_dim,d_embed)\n",
        "    self.dropout = nn.Dropout(dropout)\n",
        "\n",
        "  def forward(self,x):\n",
        "    out = self.fc1(x)\n",
        "    out = F.relu(out)\n",
        "    out = self.dropout(out)\n",
        "    out = self.fc2(out)\n",
        "    return out"
      ]
    },
    {
      "cell_type": "code",
      "execution_count": null,
      "metadata": {
        "id": "ByRZGqZH-X1i"
      },
      "outputs": [],
      "source": [
        "class EncoderBlock(nn.Module):\n",
        "  def __init__(self,d_embed,hidden_dim,att_heads,dropout=0.1):\n",
        "    super(EncoderBlock,self).__init__()\n",
        "    self.attention = nn.MultiheadAttention(d_embed,att_heads,dropout=dropout)\n",
        "    self.norm1 = nn.LayerNorm(d_embed)\n",
        "    self.norm2 = nn.LayerNorm(d_embed)\n",
        "    self.feedforward = FeedForward(d_embed,hidden_dim,dropout)\n",
        "    self.dropout = nn.Dropout(dropout)\n",
        "\n",
        "  def forward(self, x, mask=None):\n",
        "    attn_layer,_ = self.attention(x,x,x,attn_mask=mask)\n",
        "    x = x + self.dropout(attn_layer)\n",
        "    x = self.norm1(x)\n",
        "\n",
        "    feed_layer = self.feedforward(x)\n",
        "    x = x + self.dropout(feed_layer)\n",
        "    x = self.norm2(x)\n",
        "    return x\n"
      ]
    },
    {
      "cell_type": "code",
      "execution_count": null,
      "metadata": {
        "id": "ggIVQWViGdvu"
      },
      "outputs": [],
      "source": [
        "class Encoder(nn.Module):\n",
        "    def __init__(self, vocab_size, d_embed, hidden_dim, att_heads, encoder_blocks, dropout=0.1):\n",
        "        super(Encoder, self).__init__()\n",
        "        self.word_embedding = nn.Embedding(vocab_size, d_embed)\n",
        "        self.position_embedding = nn.Embedding(1000, d_embed)  # Assuming a maximum sequence length of 1000\n",
        "        self.layers = nn.ModuleList(\n",
        "            [\n",
        "                EncoderBlock(d_embed, hidden_dim, att_heads, dropout)\n",
        "                for _ in range(encoder_blocks)\n",
        "            ]\n",
        "        )\n",
        "\n",
        "    def forward(self, x, mask=None):\n",
        "        seq_length = x.shape[1]\n",
        "        print(\"sequence length\", seq_length)\n",
        "        print(\"position of one 1D layer\", torch.arange(0, seq_length),torch.arange(0, seq_length).shape)\n",
        "        positions = torch.arange(0, seq_length).expand(x.shape[0], seq_length).to(x.device)\n",
        "        print(\"positions for all layers\", positions, positions.shape)\n",
        "        out = self.word_embedding(x) + self.position_embedding(positions)\n",
        "\n",
        "        for layer in self.layers:\n",
        "            out = layer(out, mask)\n",
        "            print(\"out vector\", out,out.shape)\n",
        "        return out"
      ]
    },
    {
      "cell_type": "code",
      "execution_count": null,
      "metadata": {
        "colab": {
          "base_uri": "https://localhost:8080/"
        },
        "id": "q-rdQTCL_dMt",
        "outputId": "553a7867-37ed-4d0b-e9b2-99c1fe0dcb82"
      },
      "outputs": [
        {
          "output_type": "stream",
          "name": "stdout",
          "text": [
            "sequence length 20\n",
            "position of one 1D layer tensor([ 0,  1,  2,  3,  4,  5,  6,  7,  8,  9, 10, 11, 12, 13, 14, 15, 16, 17,\n",
            "        18, 19]) torch.Size([20])\n",
            "positions for all layers tensor([[ 0,  1,  2,  3,  4,  5,  6,  7,  8,  9, 10, 11, 12, 13, 14, 15, 16, 17,\n",
            "         18, 19]]) torch.Size([1, 20])\n",
            "out vector tensor([[[ 0.3631, -0.6862,  0.0879,  ..., -1.0542,  1.6041,  0.6024],\n",
            "         [ 0.4003, -0.1185,  0.1910,  ..., -0.5335, -1.8069, -1.5514],\n",
            "         [ 0.7274, -0.7057,  0.4593,  ..., -0.3196,  0.1505, -0.7418],\n",
            "         ...,\n",
            "         [-0.5321,  1.2067,  0.7741,  ...,  2.0038,  0.1468, -1.1930],\n",
            "         [ 0.5541,  1.4369, -0.5925,  ...,  0.5318, -0.7683, -1.3132],\n",
            "         [ 1.0759, -1.1018,  0.5948,  ..., -1.1793,  1.0693,  0.7971]]],\n",
            "       grad_fn=<NativeLayerNormBackward0>) torch.Size([1, 20, 512])\n",
            "out vector tensor([[[ 0.2740, -0.3136,  0.3824,  ..., -0.5609,  0.6310,  1.2941],\n",
            "         [-0.4261, -0.2302,  0.7571,  ..., -0.0674, -1.9572, -0.9025],\n",
            "         [ 1.0772, -0.5634,  0.1008,  ...,  0.2780, -0.6757, -0.7941],\n",
            "         ...,\n",
            "         [-0.8386,  0.8731,  0.3145,  ...,  2.4244, -0.7063, -0.9562],\n",
            "         [-0.6337,  1.8994, -0.5468,  ...,  0.4429, -0.9552, -1.4870],\n",
            "         [ 0.6202, -1.0954,  0.2773,  ..., -0.7618,  0.6004,  1.0510]]],\n",
            "       grad_fn=<NativeLayerNormBackward0>) torch.Size([1, 20, 512])\n",
            "out vector tensor([[[ 0.2059, -0.6078, -0.0346,  ..., -0.6745,  1.0228,  1.6952],\n",
            "         [ 0.5371, -0.4920,  1.1854,  ..., -1.0877, -2.0602, -0.4470],\n",
            "         [ 0.6592, -0.7706, -0.7054,  ...,  0.4801, -0.7296, -0.8366],\n",
            "         ...,\n",
            "         [-0.5271,  0.5606,  0.2422,  ...,  1.4794, -0.2034, -1.1033],\n",
            "         [-0.6508,  1.9970, -1.6977,  ...,  0.3710, -1.1373, -0.9827],\n",
            "         [ 0.5497, -0.7697,  0.8743,  ...,  0.0737,  0.5610,  1.5773]]],\n",
            "       grad_fn=<NativeLayerNormBackward0>) torch.Size([1, 20, 512])\n",
            "out vector tensor([[[-0.1956, -1.2144,  0.1870,  ..., -0.6001,  0.4599,  1.4394],\n",
            "         [ 0.5505, -0.1826,  1.2419,  ..., -0.7555, -1.8172, -0.2101],\n",
            "         [ 0.3157,  0.2523, -0.9601,  ...,  0.7263, -1.1495, -0.5286],\n",
            "         ...,\n",
            "         [-0.4952,  0.8278,  0.3163,  ...,  1.4726,  0.3573, -1.1170],\n",
            "         [ 0.1195,  1.4092, -1.9140,  ...,  0.7821, -0.9078, -0.6262],\n",
            "         [-0.1287, -0.5994,  0.9625,  ...,  0.2348,  0.3472,  1.7593]]],\n",
            "       grad_fn=<NativeLayerNormBackward0>) torch.Size([1, 20, 512])\n",
            "out vector tensor([[[ 0.4119, -1.3277,  0.4632,  ..., -0.2173,  0.1906,  1.3297],\n",
            "         [ 0.7934, -0.9770,  0.5686,  ..., -0.4617, -1.4374, -0.5784],\n",
            "         [ 0.0699, -0.0056, -1.0701,  ...,  0.6067, -1.0702, -1.0330],\n",
            "         ...,\n",
            "         [-0.5591,  0.6309,  0.1086,  ...,  1.7831,  0.5024, -2.0933],\n",
            "         [-0.0348,  0.5454, -1.0818,  ...,  0.3140, -0.7580, -1.1840],\n",
            "         [-0.5903, -0.2831,  0.5500,  ...,  0.3685,  1.1467,  0.9039]]],\n",
            "       grad_fn=<NativeLayerNormBackward0>) torch.Size([1, 20, 512])\n",
            "out vector tensor([[[ 0.2793,  0.1128, -0.1542,  ..., -0.9170,  0.1758,  2.4617],\n",
            "         [ 0.9687, -0.7218,  1.3128,  ..., -0.2384, -1.1754,  0.0134],\n",
            "         [-0.4393,  0.0321, -0.9045,  ...,  1.3505, -0.9452, -1.2450],\n",
            "         ...,\n",
            "         [-1.1720,  0.6408,  0.1045,  ...,  2.2440,  1.2225, -1.0664],\n",
            "         [ 0.4232,  0.4936, -0.7604,  ...,  1.2007, -0.8914, -0.1774],\n",
            "         [-0.3084, -0.0337,  0.2873,  ...,  0.3413,  1.3191,  0.8942]]],\n",
            "       grad_fn=<NativeLayerNormBackward0>) torch.Size([1, 20, 512])\n",
            "The model has 21,986,304 trainable parameters\n"
          ]
        }
      ],
      "source": [
        "vocab_size = 5000\n",
        "d_embed = 512\n",
        "hidden_dim = 2048\n",
        "att_heads = 8\n",
        "dropout = 0.1\n",
        "encoder_blocks = 6\n",
        "\n",
        "model = Encoder(vocab_size,d_embed,hidden_dim,att_heads,encoder_blocks,dropout)\n",
        "# Generate some example input\n",
        "input_tensor = torch.randint(0, vocab_size, (1, 20))  # batch size of 1 and sequence length of 20\n",
        "# input_tensor\n",
        "\n",
        "output = model(input_tensor, mask=None)\n",
        "print(f\"The model has {sum(p.numel() for p in model.parameters() if p.requires_grad):,} trainable parameters\")"
      ]
    },
    {
      "cell_type": "code",
      "execution_count": null,
      "metadata": {
        "colab": {
          "base_uri": "https://localhost:8080/"
        },
        "id": "yveclgDgSKWU",
        "outputId": "b6cf31f7-0782-41f1-ad18-3c878e5b799e"
      },
      "outputs": [
        {
          "output_type": "execute_result",
          "data": {
            "text/plain": [
              "20"
            ]
          },
          "metadata": {},
          "execution_count": 121
        }
      ],
      "source": [
        "input_tensor.shape[1]"
      ]
    },
    {
      "cell_type": "code",
      "execution_count": null,
      "metadata": {
        "colab": {
          "base_uri": "https://localhost:8080/"
        },
        "id": "-SxwCPYJydQV",
        "outputId": "68df2eca-3ff9-4c8e-d023-b65e38db0df9"
      },
      "outputs": [
        {
          "output_type": "stream",
          "name": "stdout",
          "text": [
            "tensor([[ 733, 2444, 3837,   19, 4000],\n",
            "        [ 639, 1252, 2415,  863, 3956]]) torch.Size([2, 5])\n",
            "sequence length 5\n",
            "position of one 1D layer tensor([0, 1, 2, 3, 4]) torch.Size([5])\n",
            "positions for all layers tensor([[0, 1, 2, 3, 4],\n",
            "        [0, 1, 2, 3, 4]]) torch.Size([2, 5])\n",
            "out vector tensor([[[-0.0935, -0.8294,  0.3669,  ..., -0.6759, -0.6581, -0.0983],\n",
            "         [-0.5760, -1.3439, -0.1334,  ..., -1.0576, -1.8375, -0.4444],\n",
            "         [ 0.1881,  0.3343,  0.6801,  ..., -1.0758,  0.8564,  0.4377],\n",
            "         [ 0.3669, -1.2716,  0.1522,  ..., -0.2428, -0.0335, -0.0656],\n",
            "         [-1.4725, -0.3279, -0.6978,  ..., -0.3956, -1.9149,  0.8661]],\n",
            "\n",
            "        [[-1.2104, -0.9359, -0.2866,  ..., -1.2313,  1.3578,  0.9891],\n",
            "         [-0.3122, -1.6690,  0.8767,  ...,  0.1879, -1.8508, -0.0059],\n",
            "         [-1.2221, -0.1787,  0.8609,  ..., -0.8402,  1.1618, -0.1979],\n",
            "         [-0.2616, -1.2194, -1.3485,  ..., -0.1855,  0.5551,  0.7014],\n",
            "         [-1.5890,  0.1638, -0.8815,  ...,  0.8085, -1.0715,  1.3763]]],\n",
            "       grad_fn=<NativeLayerNormBackward0>) torch.Size([2, 5, 512])\n",
            "out vector tensor([[[-6.0109e-01, -5.3782e-01,  5.0402e-01,  ..., -6.9316e-01,\n",
            "          -8.5525e-01,  2.7734e-01],\n",
            "         [-1.0511e+00, -1.2270e+00,  5.6129e-02,  ..., -4.9807e-01,\n",
            "          -2.2363e+00, -4.3659e-01],\n",
            "         [ 2.1693e-01,  1.0937e+00,  1.0364e+00,  ..., -7.0897e-01,\n",
            "          -7.3915e-01,  3.8011e-01],\n",
            "         [-9.6858e-02, -8.0194e-01,  1.3559e-01,  ..., -3.6601e-01,\n",
            "          -1.3629e-01,  1.1628e+00],\n",
            "         [-1.8856e+00, -6.4821e-01, -9.3580e-01,  ..., -1.5919e-03,\n",
            "          -2.5593e+00,  1.4200e+00]],\n",
            "\n",
            "        [[-1.1377e+00, -6.5593e-01, -8.9570e-03,  ..., -1.1879e+00,\n",
            "           9.1604e-01,  7.3439e-01],\n",
            "         [-1.0873e+00, -1.3758e+00,  9.2494e-01,  ...,  5.7215e-01,\n",
            "          -2.1521e+00,  2.7908e-01],\n",
            "         [-8.0222e-01,  6.5616e-01,  1.0435e+00,  ..., -6.2985e-01,\n",
            "          -1.3218e-01,  6.0426e-01],\n",
            "         [-7.9157e-01, -3.4852e-01, -1.2757e+00,  ..., -3.5583e-01,\n",
            "           4.9051e-01,  1.4177e+00],\n",
            "         [-1.9132e+00,  1.8047e-02, -1.2130e+00,  ...,  3.6821e-01,\n",
            "          -1.0451e+00,  1.4627e+00]]], grad_fn=<NativeLayerNormBackward0>) torch.Size([2, 5, 512])\n",
            "out vector tensor([[[-1.3346, -0.5071,  1.0406,  ..., -0.3297, -0.6427,  1.2747],\n",
            "         [-0.5287, -1.7021,  0.4824,  ..., -1.1257, -2.2819, -0.2686],\n",
            "         [ 0.0219,  0.8057,  0.2576,  ..., -1.4056, -0.6637,  0.1200],\n",
            "         [ 0.1528, -0.3823, -0.9990,  ..., -0.2519, -0.0778,  1.7477],\n",
            "         [-1.1859, -0.5280, -0.6169,  ...,  0.4853, -2.3191,  1.6320]],\n",
            "\n",
            "        [[-1.6998, -1.0085,  0.3176,  ..., -0.9229,  0.8343,  1.6401],\n",
            "         [-0.9390, -1.5752,  0.7184,  ..., -0.1421, -2.1153, -0.2154],\n",
            "         [-0.9112,  0.2750,  0.0275,  ..., -1.0751, -0.3446,  0.3024],\n",
            "         [-0.6771, -0.1717, -1.9844,  ..., -0.7559,  0.5107,  2.0742],\n",
            "         [-1.4021, -0.2116, -0.9260,  ...,  0.3273, -0.9190,  1.6111]]],\n",
            "       grad_fn=<NativeLayerNormBackward0>) torch.Size([2, 5, 512])\n",
            "out vector tensor([[[-1.7718, -0.9753,  0.1680,  ..., -0.5114, -0.6747,  0.6137],\n",
            "         [-0.3483, -1.4325,  0.2920,  ..., -1.1288, -2.4585,  0.0746],\n",
            "         [ 0.3350,  0.9717, -0.0932,  ..., -1.7515, -0.7284,  0.8833],\n",
            "         [ 0.2668, -0.8412, -0.4842,  ..., -0.2738, -0.7692,  2.2343],\n",
            "         [-1.1958,  0.2829, -0.8731,  ..., -0.0186, -2.7323,  1.1644]],\n",
            "\n",
            "        [[-2.0978, -1.3524,  0.2757,  ..., -0.8749,  0.1861,  0.9327],\n",
            "         [-0.6771, -1.2297,  1.0212,  ..., -0.3753, -1.9637, -0.0844],\n",
            "         [-0.6052,  0.6384, -0.1166,  ..., -0.9669, -0.4464,  1.2280],\n",
            "         [-0.2413, -1.0798, -1.2608,  ..., -0.9246, -0.4113,  2.9585],\n",
            "         [-1.0652,  0.3135, -1.2210,  ..., -0.6553, -1.2275,  1.1578]]],\n",
            "       grad_fn=<NativeLayerNormBackward0>) torch.Size([2, 5, 512])\n",
            "out vector tensor([[[-0.8188, -0.3914,  0.1622,  ..., -0.1045, -0.5973,  0.7391],\n",
            "         [-0.3241, -2.0766,  0.0061,  ..., -0.5913, -1.7943, -0.2084],\n",
            "         [ 0.6274,  0.3004, -0.8249,  ..., -1.8421, -0.9670,  1.0668],\n",
            "         [-0.3802, -1.0669, -0.5447,  ..., -0.6792,  0.2392,  2.2111],\n",
            "         [-1.2021,  0.0969, -0.2890,  ...,  0.6286, -1.9272,  1.0678]],\n",
            "\n",
            "        [[-0.7039, -1.1884,  0.3996,  ..., -0.5564, -0.5356,  1.2152],\n",
            "         [-0.4904, -1.5906,  0.8738,  ...,  0.1952, -1.5204, -0.4926],\n",
            "         [-0.4510,  0.5989, -0.6925,  ..., -1.3899, -0.7367,  1.3221],\n",
            "         [-0.9562, -1.0122, -0.9533,  ..., -1.3274,  0.2647,  2.6554],\n",
            "         [-0.8670,  0.1515, -0.7952,  ...,  0.0231, -0.8346,  1.0298]]],\n",
            "       grad_fn=<NativeLayerNormBackward0>) torch.Size([2, 5, 512])\n",
            "out vector tensor([[[-6.5504e-01, -2.7173e-01, -7.1213e-02,  ..., -1.0517e-01,\n",
            "          -5.8386e-01,  5.6604e-01],\n",
            "         [ 3.1712e-01, -1.9652e+00,  3.2608e-02,  ...,  8.0036e-02,\n",
            "          -1.4469e+00, -2.3389e-01],\n",
            "         [ 7.9790e-01,  5.7790e-01, -2.5733e-01,  ..., -6.8511e-01,\n",
            "          -1.2499e+00,  1.4532e+00],\n",
            "         [ 3.6579e-01, -1.2943e+00, -1.1710e+00,  ..., -2.1804e-02,\n",
            "           6.8022e-03,  2.1655e+00],\n",
            "         [ 1.8460e-01, -2.3969e-02, -7.8970e-01,  ...,  6.4595e-01,\n",
            "          -1.4590e+00,  5.6343e-01]],\n",
            "\n",
            "        [[-4.5036e-01, -6.5825e-01,  1.1870e-03,  ...,  4.7556e-03,\n",
            "          -4.8760e-01,  1.5129e+00],\n",
            "         [ 1.2534e-01, -1.6540e+00,  9.3735e-01,  ...,  5.4869e-01,\n",
            "          -1.2505e+00,  1.9310e-01],\n",
            "         [-4.9597e-01,  1.0594e+00, -7.2467e-01,  ..., -4.4908e-01,\n",
            "          -1.2444e+00,  9.0550e-01],\n",
            "         [-1.6174e-01, -1.2492e+00, -1.2076e+00,  ..., -7.7181e-01,\n",
            "          -1.7940e-01,  2.1164e+00],\n",
            "         [ 4.4816e-02, -1.3035e-01, -1.4222e+00,  ..., -3.2549e-01,\n",
            "          -9.4901e-01,  6.8683e-01]]], grad_fn=<NativeLayerNormBackward0>) torch.Size([2, 5, 512])\n",
            "embeddings vector tensor([[[-6.5504e-01, -2.7173e-01, -7.1213e-02,  ..., -1.0517e-01,\n",
            "          -5.8386e-01,  5.6604e-01],\n",
            "         [ 3.1712e-01, -1.9652e+00,  3.2608e-02,  ...,  8.0036e-02,\n",
            "          -1.4469e+00, -2.3389e-01],\n",
            "         [ 7.9790e-01,  5.7790e-01, -2.5733e-01,  ..., -6.8511e-01,\n",
            "          -1.2499e+00,  1.4532e+00],\n",
            "         [ 3.6579e-01, -1.2943e+00, -1.1710e+00,  ..., -2.1804e-02,\n",
            "           6.8022e-03,  2.1655e+00],\n",
            "         [ 1.8460e-01, -2.3969e-02, -7.8970e-01,  ...,  6.4595e-01,\n",
            "          -1.4590e+00,  5.6343e-01]],\n",
            "\n",
            "        [[-4.5036e-01, -6.5825e-01,  1.1870e-03,  ...,  4.7556e-03,\n",
            "          -4.8760e-01,  1.5129e+00],\n",
            "         [ 1.2534e-01, -1.6540e+00,  9.3735e-01,  ...,  5.4869e-01,\n",
            "          -1.2505e+00,  1.9310e-01],\n",
            "         [-4.9597e-01,  1.0594e+00, -7.2467e-01,  ..., -4.4908e-01,\n",
            "          -1.2444e+00,  9.0550e-01],\n",
            "         [-1.6174e-01, -1.2492e+00, -1.2076e+00,  ..., -7.7181e-01,\n",
            "          -1.7940e-01,  2.1164e+00],\n",
            "         [ 4.4816e-02, -1.3035e-01, -1.4222e+00,  ..., -3.2549e-01,\n",
            "          -9.4901e-01,  6.8683e-01]]], grad_fn=<NativeLayerNormBackward0>) torch.Size([2, 5, 512])\n"
          ]
        }
      ],
      "source": [
        "input_tensor = torch.randint(0, vocab_size, (2, 5))  # batch size of 1 and sequence length of 5\n",
        "print(input_tensor, input_tensor.shape)\n",
        "# Forward pass through the model\n",
        "embeddings = model(input_tensor, mask=None)\n",
        "\n",
        "# The `embeddings` tensor now contains the contextualized embeddings for each word in the input sequence\n",
        "print(\"embeddings vector\", embeddings,embeddings.shape)"
      ]
    },
    {
      "cell_type": "code",
      "execution_count": null,
      "metadata": {
        "colab": {
          "base_uri": "https://localhost:8080/"
        },
        "id": "zoL_FBXBFNNQ",
        "outputId": "2a19546d-4820-4342-b05a-b14330fc104b"
      },
      "outputs": [
        {
          "output_type": "stream",
          "name": "stdout",
          "text": [
            "{'[PAD]': 0, '[UNK]': 1, '[CLS]': 2, '[SEP]': 3, '[MASK]': 4, 'the': 5, 'a': 6, 'an': 7, 'cat': 8, 'dog': 9, 'fish': 10, 'bird': 11, 'lion': 12, 'tiger': 13, 'elephant': 14, 'monkey': 15, 'runs': 16, 'jumps': 17, 'sleeps': 18, 'eats': 19, 'drinks': 20, 'fast': 21, 'slow': 22, 'big': 23, 'small': 24, 'red': 25, 'green': 26, 'blue': 27, 'yellow': 28, 'is': 29, 'was': 30, 'will': 31, 'can': 32, 'has': 33, 'have': 34, 'had': 35, 'do': 36, 'does': 37, 'I': 38, 'you': 39, 'he': 40, 'she': 41, 'it': 42, 'we': 43, 'they': 44, 'my': 45, 'your': 46, 'his': 47, 'her': 48, 'its': 49, 'our': 50, 'their': 51}\n"
          ]
        }
      ],
      "source": [
        "vocabulary = [\n",
        "    \"[PAD]\", \"[UNK]\", \"[CLS]\", \"[SEP]\", \"[MASK]\",\n",
        "    \"the\", \"a\", \"an\",\n",
        "    \"cat\", \"dog\", \"fish\", \"bird\", \"lion\", \"tiger\", \"elephant\", \"monkey\",\n",
        "    \"runs\", \"jumps\", \"sleeps\", \"eats\", \"drinks\",\n",
        "    \"fast\", \"slow\", \"big\", \"small\", \"red\", \"green\", \"blue\", \"yellow\",\n",
        "    \"is\", \"was\", \"will\", \"can\", \"has\", \"have\", \"had\", \"do\", \"does\",\n",
        "    \"I\", \"you\", \"he\", \"she\", \"it\", \"we\", \"they\",\n",
        "    \"my\", \"your\", \"his\", \"her\", \"its\", \"our\", \"their\"\n",
        "]\n",
        "\n",
        "word2id = {word:id for id,word in enumerate(vocabulary)}\n",
        "print(word2id)"
      ]
    },
    {
      "cell_type": "code",
      "source": [
        "def embeddings(sentence, word2id, model):\n",
        "  input_tensor = torch.tensor([word2id.get(word,word2id[\"[UNK]\"]) for word in sentence.split()],dtype=torch.long).unsqueeze(0)\n",
        "  print(input_tensor)\n",
        "  #create embeddings for the given input tensor\n",
        "  embeddings = model(input_tensor, mask = None)\n",
        "  return embeddings\n",
        "\n",
        "def cosine_similarity(avg_embeddings1,avg_embeddings2):\n",
        "  vec1 = avg_embeddings1.squeeze()\n",
        "  vec2 = avg_embeddings2.squeeze()\n",
        "  print(\"squeezed average vectors\", vec1.shape,vec2.shape)\n",
        "  score = torch.dot(vec1,vec2)/(torch.norm(vec1)*torch.norm(vec2))\n",
        "  print(\"cosine similarity\",score)\n",
        "  return score\n",
        "\n",
        "def sentence_similarity(sentence1, sentence2, model, word2id):\n",
        "  #create embeddings\n",
        "  embeddings1 = embeddings(sentence1, word2id, model)\n",
        "  embeddings2 = embeddings(sentence2, word2id, model)\n",
        "  print(\"shape of embeddings\", embeddings1.shape, embeddings2.shape)\n",
        "  #create avg embeddings\n",
        "  avg_embeddings1 = torch.mean(embeddings1,dim=1)\n",
        "  avg_embeddings2 = torch.mean(embeddings2,dim=1)\n",
        "  print(\"shape of average embeddings\", avg_embeddings1.shape, avg_embeddings2.shape)\n",
        "  return cosine_similarity(avg_embeddings1, avg_embeddings2)\n",
        "\n",
        "sentence1 = \"the cat has a blue fish\"\n",
        "sentence2 = \"my sister's dog sleeps\"\n",
        "# Compute the similarity\n",
        "similarity = sentence_similarity(sentence1, sentence2, model, word2id)\n",
        "\n",
        "similarity_score = similarity.item()\n",
        "\n",
        "# Print the result with a descriptive sentence\n",
        "print(f\"The cosine similarity between the sentences '{sentence1}' and '{sentence2}' is {similarity_score:.2f}.\")\n"
      ],
      "metadata": {
        "colab": {
          "base_uri": "https://localhost:8080/"
        },
        "id": "K-qyBJlN0fPG",
        "outputId": "d8b23293-89d5-4fcb-81da-6fe7a74aa045"
      },
      "execution_count": null,
      "outputs": [
        {
          "output_type": "stream",
          "name": "stdout",
          "text": [
            "tensor([[ 5,  8, 33,  6, 27, 10]])\n",
            "sequence length 6\n",
            "position of one 1D layer tensor([0, 1, 2, 3, 4, 5]) torch.Size([6])\n",
            "positions for all layers tensor([[0, 1, 2, 3, 4, 5]]) torch.Size([1, 6])\n",
            "out vector tensor([[[-0.7262, -1.5774,  0.0859,  ..., -1.1739, -0.4944,  0.4838],\n",
            "         [-0.0937, -0.0896, -0.1088,  ...,  0.2291, -1.5948, -0.6910],\n",
            "         [ 0.8018, -0.5499,  0.3774,  ...,  0.2341,  0.7330, -0.0585],\n",
            "         [-0.9522, -0.6955, -0.3501,  ..., -0.3861, -0.6361, -1.3149],\n",
            "         [-0.3444, -0.8203, -0.7973,  ...,  1.2745, -1.2774, -1.0654],\n",
            "         [-0.1359,  0.0513, -0.0688,  ..., -1.0458,  1.2697,  1.2602]]],\n",
            "       grad_fn=<NativeLayerNormBackward0>) torch.Size([1, 6, 512])\n",
            "out vector tensor([[[-0.8838, -1.1757,  0.4585,  ..., -0.7339, -0.6350,  1.0274],\n",
            "         [-0.3862,  0.1466, -0.4369,  ..., -0.4265, -1.7591, -0.0285],\n",
            "         [ 0.4859, -0.4289, -0.0328,  ...,  0.2406,  0.0092, -0.1316],\n",
            "         [-0.9911, -0.0372,  0.1230,  ..., -0.5993, -0.0326, -0.6765],\n",
            "         [-0.6414, -0.7906, -0.5896,  ...,  1.4435, -1.7405, -1.0219],\n",
            "         [-0.5464,  0.1498, -0.1980,  ..., -1.4947,  1.3763,  1.3926]]],\n",
            "       grad_fn=<NativeLayerNormBackward0>) torch.Size([1, 6, 512])\n",
            "out vector tensor([[[-1.2611, -1.3231, -0.0515,  ..., -0.5874, -0.0320,  1.8654],\n",
            "         [ 0.3687, -0.6556, -0.2662,  ..., -1.1092, -2.1433, -0.5029],\n",
            "         [ 0.5718, -0.7752, -0.5914,  ..., -0.1549, -0.4319,  0.0515],\n",
            "         [-0.7201, -0.3349, -0.4497,  ..., -0.6100, -0.4053, -0.0113],\n",
            "         [ 0.2307, -0.7506, -0.5166,  ...,  1.4057, -1.2017,  0.0329],\n",
            "         [-0.8235,  0.1977, -0.7268,  ..., -0.9441,  0.6212,  0.9912]]],\n",
            "       grad_fn=<NativeLayerNormBackward0>) torch.Size([1, 6, 512])\n",
            "out vector tensor([[[-1.5083, -2.2185,  0.0846,  ..., -0.4221, -0.2090,  1.9909],\n",
            "         [-0.1422, -0.3603, -0.3233,  ..., -0.6539, -2.1101, -0.2090],\n",
            "         [ 1.0806, -0.0600, -0.4663,  ...,  0.2318, -0.6201,  0.1437],\n",
            "         [-0.2276, -0.7855, -0.5203,  ..., -1.1533, -0.8779,  0.8144],\n",
            "         [-0.0372, -0.0998, -0.4976,  ...,  1.0970, -1.8330, -0.0383],\n",
            "         [-1.1881,  0.3582, -1.3339,  ..., -1.0482,  0.6653,  1.4240]]],\n",
            "       grad_fn=<NativeLayerNormBackward0>) torch.Size([1, 6, 512])\n",
            "out vector tensor([[[-1.0903, -1.9981,  0.2786,  ..., -0.0544, -0.3436,  1.1897],\n",
            "         [ 0.4777, -0.2304, -0.8985,  ..., -0.0270, -0.8067, -0.4797],\n",
            "         [ 2.0576, -0.6800, -0.2225,  ...,  0.4980, -1.6199,  0.5592],\n",
            "         [-0.1712, -1.0351, -0.5687,  ..., -1.3754, -1.1720,  0.4893],\n",
            "         [-1.1477, -0.7607,  0.8121,  ...,  1.2961, -1.2136,  0.1305],\n",
            "         [-0.6438,  0.0624, -1.0412,  ..., -0.5439,  1.0327,  1.3507]]],\n",
            "       grad_fn=<NativeLayerNormBackward0>) torch.Size([1, 6, 512])\n",
            "out vector tensor([[[ 0.0621, -1.8995, -0.2665,  ...,  0.0916, -0.1642,  1.5826],\n",
            "         [ 0.6603, -0.4867, -0.9170,  ..., -0.2602, -0.4854, -0.5780],\n",
            "         [ 2.0296, -0.3303,  0.0368,  ...,  1.1009, -0.9070,  1.3511],\n",
            "         [ 0.1494, -0.8106, -1.3077,  ..., -0.9492, -0.7513,  1.0266],\n",
            "         [-1.2325, -1.3687,  0.5451,  ...,  1.1815, -1.6152,  0.1726],\n",
            "         [-0.0188,  0.3202, -0.8420,  ..., -0.8940,  0.5909,  1.6639]]],\n",
            "       grad_fn=<NativeLayerNormBackward0>) torch.Size([1, 6, 512])\n",
            "tensor([[45,  1,  9, 18]])\n",
            "sequence length 4\n",
            "position of one 1D layer tensor([0, 1, 2, 3]) torch.Size([4])\n",
            "positions for all layers tensor([[0, 1, 2, 3]]) torch.Size([1, 4])\n",
            "out vector tensor([[[-1.1402, -1.2412, -0.0862,  ..., -0.3180, -0.3809,  1.2300],\n",
            "         [-0.1751, -0.7464, -0.5044,  ..., -1.3188, -2.1608, -1.3974],\n",
            "         [-0.5124,  1.0005,  0.2961,  ..., -0.3660,  1.5788,  0.1366],\n",
            "         [-0.9284, -2.5060, -0.5623,  ...,  0.3763, -0.8556, -0.3127]]],\n",
            "       grad_fn=<NativeLayerNormBackward0>) torch.Size([1, 4, 512])\n",
            "out vector tensor([[[-0.7047, -1.4181,  0.2583,  ..., -0.1777, -0.4229,  1.5177],\n",
            "         [-1.2534, -0.7957, -0.7380,  ..., -1.2354, -2.5433, -0.0057],\n",
            "         [-0.4714,  2.6339,  0.5045,  ...,  0.7347,  0.3420,  0.5060],\n",
            "         [-0.9797, -1.6363, -0.2237,  ...,  0.1252, -0.2675, -0.2883]]],\n",
            "       grad_fn=<NativeLayerNormBackward0>) torch.Size([1, 4, 512])\n",
            "out vector tensor([[[-0.6513, -2.0628,  0.5429,  ...,  0.4460, -0.8789,  1.7734],\n",
            "         [-0.7035, -1.3473, -0.7804,  ..., -1.2659, -2.6019,  0.9283],\n",
            "         [-0.3293,  2.2849, -0.3488,  ..., -0.6551,  0.2814, -0.0180],\n",
            "         [-0.5295, -0.8154, -0.9119,  ...,  0.1009, -0.3770,  0.9396]]],\n",
            "       grad_fn=<NativeLayerNormBackward0>) torch.Size([1, 4, 512])\n",
            "out vector tensor([[[-0.0745, -2.5001,  0.7618,  ...,  0.1332, -1.3433,  1.4224],\n",
            "         [-0.5973, -1.1183, -0.5454,  ..., -0.9128, -2.4122,  0.9954],\n",
            "         [ 0.0219,  2.8364, -1.5122,  ..., -0.4863, -0.0187,  0.9190],\n",
            "         [ 0.1439, -1.0931, -0.6475,  ...,  0.5656, -1.7177,  1.6564]]],\n",
            "       grad_fn=<NativeLayerNormBackward0>) torch.Size([1, 4, 512])\n",
            "out vector tensor([[[ 0.1186, -2.2382,  0.8694,  ...,  0.0672, -0.6495,  1.5660],\n",
            "         [-0.2449, -1.8455, -0.8934,  ..., -0.5537, -2.1654,  0.1875],\n",
            "         [ 0.4345,  3.0283, -1.7598,  ..., -0.5733, -0.5279,  1.2069],\n",
            "         [-0.4239, -1.6152, -0.8591,  ...,  0.6573, -1.8043,  0.7774]]],\n",
            "       grad_fn=<NativeLayerNormBackward0>) torch.Size([1, 4, 512])\n",
            "out vector tensor([[[ 0.3168, -1.8294,  0.5735,  ...,  0.7964, -0.5232,  2.5175],\n",
            "         [ 0.3245, -1.8583, -0.8757,  ..., -0.6014, -1.9602,  1.1030],\n",
            "         [ 0.8525,  3.0298, -1.9331,  ..., -0.1858, -0.6699,  1.3295],\n",
            "         [ 0.0474, -1.6167, -0.8862,  ...,  1.4212, -1.2162,  1.6143]]],\n",
            "       grad_fn=<NativeLayerNormBackward0>) torch.Size([1, 4, 512])\n",
            "embeddings shape torch.Size([1, 6, 512]) torch.Size([1, 4, 512])\n",
            "average embeddings shape torch.Size([1, 512]) torch.Size([1, 512])\n",
            "squeezed average vectors torch.Size([512]) torch.Size([512])\n",
            "cosine similarity tensor(0.5695, grad_fn=<DivBackward0>)\n",
            "The cosine similarity between the sentences 'the cat has a blue fish' and 'my sister's dog sleeps' is 0.57.\n"
          ]
        }
      ]
    },
    {
      "cell_type": "code",
      "source": [
        "import numpy as np\n",
        "from sklearn.decomposition import PCA\n",
        "import matplotlib.pyplot as plt\n",
        "\n",
        "# Define a list of words to plot\n",
        "words = [\n",
        "    # Animals\n",
        "    \"cat\", \"dog\", \"fish\", \"bird\", \"lion\", \"tiger\", \"elephant\", \"monkey\",\n",
        "    # Colors\n",
        "    \"red\", \"green\", \"blue\", \"yellow\", \"black\", \"white\", \"pink\", \"orange\",\n",
        "    # Verbs\n",
        "    \"run\", \"jump\", \"swim\", \"fly\", \"eat\", \"drink\", \"sleep\", \"play\"\n",
        "]\n",
        "# words = vocabulary\n",
        "embeddings = np.array([np.random.rand(512) for _ in words])\n",
        "print(embeddings)\n",
        "# embeddings.shape\n",
        "pca = PCA(n_components=2)\n",
        "embeddings_2d = pca.fit_transform(embeddings)\n",
        "# embeddings_2d\n",
        "plt.figure(figsize=(8,8))\n",
        "plt.scatter(embeddings_2d[:,0],embeddings_2d[:,1],s=500)\n",
        "for i,word in enumerate(words):\n",
        "  plt.annotate(word,xy=(embeddings_2d[i,0],embeddings_2d[i,1]))\n",
        "plt.show()\n",
        "\n"
      ],
      "metadata": {
        "colab": {
          "base_uri": "https://localhost:8080/",
          "height": 801
        },
        "id": "NwAFHZuD8Fjs",
        "outputId": "c0ad3d54-eba2-4510-880a-2221c598ef8b"
      },
      "execution_count": null,
      "outputs": [
        {
          "output_type": "stream",
          "name": "stdout",
          "text": [
            "[[0.46318314 0.92497816 0.65649075 ... 0.43564885 0.42814781 0.71272477]\n",
            " [0.4279083  0.24473884 0.7594888  ... 0.77780949 0.96080824 0.80487967]\n",
            " [0.03405757 0.04570341 0.37375317 ... 0.94080722 0.92222401 0.21540423]\n",
            " ...\n",
            " [0.87892524 0.49504611 0.15502849 ... 0.66383154 0.16947101 0.48770468]\n",
            " [0.42293537 0.27627881 0.49248136 ... 0.92036636 0.97967733 0.24926939]\n",
            " [0.91462711 0.56188413 0.52197311 ... 0.87677886 0.24837401 0.32881073]]\n"
          ]
        },
        {
          "output_type": "display_data",
          "data": {
            "text/plain": [
              "<Figure size 800x800 with 1 Axes>"
            ],
            "image/png": "[encoded data removed]"
          },
          "metadata": {}
        }
      ]
    },
    {
      "cell_type": "markdown",
      "source": [
        "### Masked Language Modeling with BERT\n",
        "\n",
        "We load a pre-trained BERT model that has been fine-tuned for the masked language modeling (MLM) task. We then define a function to predict the word that should fill a `[MASK]` token in a sentence."
      ],
      "metadata": {
        "id": "CYahKPu49hR2"
      }
    },
    {
      "cell_type": "code",
      "source": [
        "from transformers import BertModel, BertTokenizer\n",
        "\n",
        "model_name = \"bert-base-uncased\"\n",
        "model_bert = BertModel.from_pretrained(model_name)\n",
        "tokenizer = BertTokenizer.from_pretrained(model_name)"
      ],
      "metadata": {
        "id": "aLY9gqY9D7zi"
      },
      "execution_count": null,
      "outputs": []
    },
    {
      "cell_type": "code",
      "source": [
        "# Define a list of words to plot\n",
        "words = [\n",
        "    # Animals\n",
        "    \"cat\", \"dog\", \"fish\", \"bird\", \"lion\", \"tiger\", \"elephant\", \"monkey\",\n",
        "    # Colors\n",
        "    \"red\", \"green\", \"blue\", \"yellow\", \"black\", \"white\", \"pink\", \"orange\",\n",
        "    # Verbs\n",
        "    \"run\", \"jump\", \"swim\", \"fly\", \"eat\", \"drink\", \"sleep\", \"play\"\n",
        "]\n",
        "\n",
        "# Get the embeddings of the words\n",
        "embeddings = []\n",
        "for word in words:\n",
        "    inputs = tokenizer(word, return_tensors=\"pt\")\n",
        "    with torch.no_grad():\n",
        "        outputs = model_bert(**inputs)\n",
        "    # embeddings.append(outputs.logits.mean(dim=1).squeeze().numpy())\n",
        "    embeddings.append(outputs.last_hidden_state[0, 0, :].numpy())\n",
        "\n",
        "\n",
        "print(torch.tensor(embeddings).shape)\n",
        "# Use PCA to reduce the dimensionality of the embeddings to 2\n",
        "pca = PCA(n_components=2)\n",
        "embeddings_2d = pca.fit_transform(embeddings)\n",
        "\n",
        "# Plot the embeddings\n",
        "plt.figure(figsize=(8, 8))\n",
        "plt.scatter(embeddings_2d[:, 0], embeddings_2d[:, 1],s=500)\n",
        "for i, word in enumerate(words):\n",
        "    plt.annotate(word, xy=(embeddings_2d[i, 0], embeddings_2d[i, 1]))\n",
        "plt.show()"
      ],
      "metadata": {
        "colab": {
          "base_uri": "https://localhost:8080/",
          "height": 694
        },
        "id": "tJnNjNTVGBst",
        "outputId": "f28820c9-ebc3-4b5c-85f0-65c6065ad284"
      },
      "execution_count": null,
      "outputs": [
        {
          "output_type": "stream",
          "name": "stdout",
          "text": [
            "torch.Size([24, 768])\n"
          ]
        },
        {
          "output_type": "display_data",
          "data": {
            "text/plain": [
              "<Figure size 800x800 with 1 Axes>"
            ],
            "image/png": "[encoded data removed]"
          },
          "metadata": {}
        }
      ]
    },
    {
      "cell_type": "code",
      "source": [
        "words = [\n",
        "    # Animals\n",
        "    \"sea horse\", \"fish\", \"turtles\", \"sea weeds\", \"shark\", \"whales\", \"dolphins\", \"oyster\",\n",
        "    # Colors\n",
        "    \"crab\", \"beach\", \"sea\", \"ocean\", \"ship\", \"boat\", \"cruise\", \"seals\",\n",
        "    # Verbs\n",
        "    \"octopus\", \"starfish\", \"reptiles\", \"lobster\", \"amphibians\", \"frogs\", \"oyster\", \"eels\"\n",
        "]\n",
        "\n",
        "# Get the embeddings of the words\n",
        "embeddings = []\n",
        "for word in words:\n",
        "    inputs = tokenizer(word, return_tensors='pt')\n",
        "    with torch.no_grad():\n",
        "        outputs = model_bert(**inputs)\n",
        "    # print(outputs[\"last_hidden_state\"], outputs[\"last_hidden_state\"].shape)\n",
        "    # print(outputs.last_hidden_state[0, 0, :],outputs.last_hidden_state[0, 0, :].shape)\n",
        "    embeddings.append(outputs.last_hidden_state[0, 0, :].numpy())\n",
        "\n",
        "# Use PCA to reduce the dimensionality of the embeddings to 2\n",
        "pca = PCA(n_components=2)\n",
        "embeddings_2d = pca.fit_transform(embeddings)\n",
        "\n",
        "# Plot the embeddings\n",
        "plt.figure(figsize=(8, 8))\n",
        "plt.scatter(embeddings_2d[:, 0], embeddings_2d[:, 1],s=500)\n",
        "for i, word in enumerate(words):\n",
        "    plt.annotate(word, xy=(embeddings_2d[i, 0], embeddings_2d[i, 1]))\n",
        "plt.show()"
      ],
      "metadata": {
        "colab": {
          "base_uri": "https://localhost:8080/",
          "height": 676
        },
        "id": "KF2NvXWGZ02R",
        "outputId": "74ac033f-3488-48a4-817b-fd60a0e82adc"
      },
      "execution_count": null,
      "outputs": [
        {
          "output_type": "display_data",
          "data": {
            "text/plain": [
              "<Figure size 800x800 with 1 Axes>"
            ],
            "image/png": "[encoded data removed]"
          },
          "metadata": {}
        }
      ]
    },
    {
      "cell_type": "code",
      "source": [
        "from transformers import BertTokenizer, BertForMaskedLM\n",
        "tokenizer = BertTokenizer.from_pretrained('bert-base-uncased')\n",
        "mlm_model = BertForMaskedLM.from_pretrained(\"bert-base-uncased\")"
      ],
      "metadata": {
        "colab": {
          "base_uri": "https://localhost:8080/"
        },
        "id": "fjlbXIEiadLP",
        "outputId": "b6d63667-66f1-45df-d4dc-084d61ced5f4"
      },
      "execution_count": null,
      "outputs": [
        {
          "output_type": "stream",
          "name": "stderr",
          "text": [
            "Some weights of the model checkpoint at bert-base-uncased were not used when initializing BertForMaskedLM: ['bert.pooler.dense.bias', 'bert.pooler.dense.weight', 'cls.seq_relationship.bias', 'cls.seq_relationship.weight']\n",
            "- This IS expected if you are initializing BertForMaskedLM from the checkpoint of a model trained on another task or with another architecture (e.g. initializing a BertForSequenceClassification model from a BertForPreTraining model).\n",
            "- This IS NOT expected if you are initializing BertForMaskedLM from the checkpoint of a model that you expect to be exactly identical (initializing a BertForSequenceClassification model from a BertForSequenceClassification model).\n"
          ]
        }
      ]
    },
    {
      "cell_type": "code",
      "source": [
        "# Define a function to predict masked words\n",
        "from transformers import BertTokenizer, BertForMaskedLM\n",
        "\n",
        "# Load pre-trained model and tokenizer\n",
        "tokenizer = BertTokenizer.from_pretrained(\"bert-base-uncased\")\n",
        "mlm_model = BertForMaskedLM.from_pretrained(\"bert-base-uncased\")\n",
        "\n",
        "# Define a function to predict masked words\n",
        "def predict_masked_words(sentence, model, tokenizer):\n",
        "    inputs = tokenizer(sentence, return_tensors=\"pt\")\n",
        "    with torch.no_grad():\n",
        "        outputs = model(**inputs)\n",
        "    print(inputs, outputs[\"logits\"].shape)\n",
        "    predicted_token_ids = outputs.logits.argmax(dim=-1)\n",
        "    print(predicted_token_ids, predicted_token_ids.shape)\n",
        "    print(predicted_token_ids.squeeze(0))\n",
        "    predicted_tokens = tokenizer.convert_ids_to_tokens(predicted_token_ids[0])\n",
        "    print(predicted_tokens)\n",
        "    return \" \".join(predicted_tokens)\n"
      ],
      "metadata": {
        "colab": {
          "base_uri": "https://localhost:8080/"
        },
        "id": "v3GJzzZ3cGzx",
        "outputId": "dd22c4a2-3202-4f20-e75e-3e5bf431d46c"
      },
      "execution_count": null,
      "outputs": [
        {
          "output_type": "stream",
          "name": "stderr",
          "text": [
            "Some weights of the model checkpoint at bert-base-uncased were not used when initializing BertForMaskedLM: ['bert.pooler.dense.bias', 'bert.pooler.dense.weight', 'cls.seq_relationship.bias', 'cls.seq_relationship.weight']\n",
            "- This IS expected if you are initializing BertForMaskedLM from the checkpoint of a model trained on another task or with another architecture (e.g. initializing a BertForSequenceClassification model from a BertForPreTraining model).\n",
            "- This IS NOT expected if you are initializing BertForMaskedLM from the checkpoint of a model that you expect to be exactly identical (initializing a BertForSequenceClassification model from a BertForSequenceClassification model).\n"
          ]
        }
      ]
    },
    {
      "cell_type": "code",
      "source": [
        "# Define a sentence with a masked word\n",
        "sentence = \"I love to play [MASK] ball.\"\n",
        "print(predict_masked_words(sentence, mlm_model, tokenizer))"
      ],
      "metadata": {
        "colab": {
          "base_uri": "https://localhost:8080/"
        },
        "id": "rVeIJ3Dc6ufX",
        "outputId": "72c5cd5c-4b01-46c8-c94e-2b574240297f"
      },
      "execution_count": null,
      "outputs": [
        {
          "output_type": "stream",
          "name": "stdout",
          "text": [
            "{'input_ids': tensor([[ 101, 1045, 2293, 2000, 2377,  103, 3608, 1012,  102]]), 'token_type_ids': tensor([[0, 0, 0, 0, 0, 0, 0, 0, 0]]), 'attention_mask': tensor([[1, 1, 1, 1, 1, 1, 1, 1, 1]])} torch.Size([1, 9, 30522])\n",
            "tensor([[1012, 1045, 2293, 2000, 2377, 1996, 3608, 1012, 1045]]) torch.Size([1, 9])\n",
            "tensor([1012, 1045, 2293, 2000, 2377, 1996, 3608, 1012, 1045])\n",
            "['.', 'i', 'love', 'to', 'play', 'the', 'ball', '.', 'i']\n",
            ". i love to play the ball . i\n"
          ]
        }
      ]
    },
    {
      "cell_type": "code",
      "source": [
        "sentences = [\n",
        "    \"The weather today is [MASK].\",\n",
        "    \"I like to eat [MASK] for breakfast.\",\n",
        "    \"She is a [MASK] woman.\",\n",
        "    \"He drives a [MASK] car.\",\n",
        "    \"They are going to the [MASK].\"\n",
        "]\n",
        "\n",
        "# Use the model to predict the masked words\n",
        "for sentence in sentences:\n",
        "    print(predict_masked_words(sentence, mlm_model, tokenizer))"
      ],
      "metadata": {
        "colab": {
          "base_uri": "https://localhost:8080/"
        },
        "id": "HysUDpwYcLDg",
        "outputId": "5c766d78-f325-46c4-cd23-3668fa554165"
      },
      "execution_count": null,
      "outputs": [
        {
          "output_type": "stream",
          "name": "stdout",
          "text": [
            "{'input_ids': tensor([[ 101, 1996, 4633, 2651, 2003,  103, 1012,  102]]), 'token_type_ids': tensor([[0, 0, 0, 0, 0, 0, 0, 0]]), 'attention_mask': tensor([[1, 1, 1, 1, 1, 1, 1, 1]])} torch.Size([1, 8, 30522])\n",
            "tensor([[1012, 1996, 4633, 2651, 2003, 4010, 1012, 1012]]) torch.Size([1, 8])\n",
            "tensor([1012, 1996, 4633, 2651, 2003, 4010, 1012, 1012])\n",
            "['.', 'the', 'weather', 'today', 'is', 'warm', '.', '.']\n",
            ". the weather today is warm . .\n",
            "{'input_ids': tensor([[ 101, 1045, 2066, 2000, 4521,  103, 2005, 6350, 1012,  102]]), 'token_type_ids': tensor([[0, 0, 0, 0, 0, 0, 0, 0, 0, 0]]), 'attention_mask': tensor([[1, 1, 1, 1, 1, 1, 1, 1, 1, 1]])} torch.Size([1, 10, 30522])\n",
            "tensor([[1012, 1045, 2066, 2000, 4521, 2009, 2005, 6350, 1012, 1045]]) torch.Size([1, 10])\n",
            "tensor([1012, 1045, 2066, 2000, 4521, 2009, 2005, 6350, 1012, 1045])\n",
            "['.', 'i', 'like', 'to', 'eat', 'it', 'for', 'breakfast', '.', 'i']\n",
            ". i like to eat it for breakfast . i\n",
            "{'input_ids': tensor([[ 101, 2016, 2003, 1037,  103, 2450, 1012,  102]]), 'token_type_ids': tensor([[0, 0, 0, 0, 0, 0, 0, 0]]), 'attention_mask': tensor([[1, 1, 1, 1, 1, 1, 1, 1]])} torch.Size([1, 8, 30522])\n",
            "tensor([[1012, 2016, 2003, 1037, 3376, 2450, 1012, 1012]]) torch.Size([1, 8])\n",
            "tensor([1012, 2016, 2003, 1037, 3376, 2450, 1012, 1012])\n",
            "['.', 'she', 'is', 'a', 'beautiful', 'woman', '.', '.']\n",
            ". she is a beautiful woman . .\n",
            "{'input_ids': tensor([[ 101, 2002, 9297, 1037,  103, 2482, 1012,  102]]), 'token_type_ids': tensor([[0, 0, 0, 0, 0, 0, 0, 0]]), 'attention_mask': tensor([[1, 1, 1, 1, 1, 1, 1, 1]])} torch.Size([1, 8, 30522])\n",
            "tensor([[1012, 2002, 9297, 1037, 2998, 2482, 1012, 1012]]) torch.Size([1, 8])\n",
            "tensor([1012, 2002, 9297, 1037, 2998, 2482, 1012, 1012])\n",
            "['.', 'he', 'drives', 'a', 'sports', 'car', '.', '.']\n",
            ". he drives a sports car . .\n",
            "{'input_ids': tensor([[ 101, 2027, 2024, 2183, 2000, 1996,  103, 1012,  102]]), 'token_type_ids': tensor([[0, 0, 0, 0, 0, 0, 0, 0, 0]]), 'attention_mask': tensor([[1, 1, 1, 1, 1, 1, 1, 1, 1]])} torch.Size([1, 9, 30522])\n",
            "tensor([[1012, 2027, 2024, 2183, 2000, 1996, 2902, 1012, 1012]]) torch.Size([1, 9])\n",
            "tensor([1012, 2027, 2024, 2183, 2000, 1996, 2902, 1012, 1012])\n",
            "['.', 'they', 'are', 'going', 'to', 'the', 'hospital', '.', '.']\n",
            ". they are going to the hospital . .\n"
          ]
        }
      ]
    },
    {
      "cell_type": "code",
      "source": [
        "sentences = [\n",
        "    \"My favorite color is [MASK].\",\n",
        "    \"The cat sat on the [MASK].\",\n",
        "    \"I am reading a [MASK] book.\",\n",
        "    \"She has a [MASK] of apples.\",\n",
        "    \"He plays the [MASK] in a band.\"\n",
        "]\n",
        "\n",
        "# Use the model to predict the masked words\n",
        "for sentence in sentences:\n",
        "    print(predict_masked_words(sentence, mlm_model, tokenizer))"
      ],
      "metadata": {
        "colab": {
          "base_uri": "https://localhost:8080/"
        },
        "id": "wL83PtlNcT50",
        "outputId": "45b9f147-8f68-48b8-d4b5-de1ea82a6c02"
      },
      "execution_count": null,
      "outputs": [
        {
          "output_type": "stream",
          "name": "stdout",
          "text": [
            "{'input_ids': tensor([[ 101, 2026, 5440, 3609, 2003,  103, 1012,  102]]), 'token_type_ids': tensor([[0, 0, 0, 0, 0, 0, 0, 0]]), 'attention_mask': tensor([[1, 1, 1, 1, 1, 1, 1, 1]])} torch.Size([1, 8, 30522])\n",
            "tensor([[1012, 2026, 5440, 3609, 2003, 5061, 1012, 1012]]) torch.Size([1, 8])\n",
            "tensor([1012, 2026, 5440, 3609, 2003, 5061, 1012, 1012])\n",
            "['.', 'my', 'favorite', 'color', 'is', 'pink', '.', '.']\n",
            ". my favorite color is pink . .\n",
            "{'input_ids': tensor([[ 101, 1996, 4937, 2938, 2006, 1996,  103, 1012,  102]]), 'token_type_ids': tensor([[0, 0, 0, 0, 0, 0, 0, 0, 0]]), 'attention_mask': tensor([[1, 1, 1, 1, 1, 1, 1, 1, 1]])} torch.Size([1, 9, 30522])\n",
            "tensor([[1012, 1996, 4937, 2938, 2006, 1996, 2723, 1012, 1012]]) torch.Size([1, 9])\n",
            "tensor([1012, 1996, 4937, 2938, 2006, 1996, 2723, 1012, 1012])\n",
            "['.', 'the', 'cat', 'sat', 'on', 'the', 'floor', '.', '.']\n",
            ". the cat sat on the floor . .\n",
            "{'input_ids': tensor([[ 101, 1045, 2572, 3752, 1037,  103, 2338, 1012,  102]]), 'token_type_ids': tensor([[0, 0, 0, 0, 0, 0, 0, 0, 0]]), 'attention_mask': tensor([[1, 1, 1, 1, 1, 1, 1, 1, 1]])} torch.Size([1, 9, 30522])\n",
            "tensor([[1012, 1045, 2572, 3752, 1037, 5021, 2338, 1012, 1012]]) torch.Size([1, 9])\n",
            "tensor([1012, 1045, 2572, 3752, 1037, 5021, 2338, 1012, 1012])\n",
            "['.', 'i', 'am', 'reading', 'a', 'comic', 'book', '.', '.']\n",
            ". i am reading a comic book . .\n",
            "{'input_ids': tensor([[  101,  2016,  2038,  1037,   103,  1997, 18108,  1012,   102]]), 'token_type_ids': tensor([[0, 0, 0, 0, 0, 0, 0, 0, 0]]), 'attention_mask': tensor([[1, 1, 1, 1, 1, 1, 1, 1, 1]])} torch.Size([1, 9, 30522])\n",
            "tensor([[ 1012,  2016,  2038,  1037, 10810,  1997, 18108,  1012,  1012]]) torch.Size([1, 9])\n",
            "tensor([ 1012,  2016,  2038,  1037, 10810,  1997, 18108,  1012,  1012])\n",
            "['.', 'she', 'has', 'a', 'basket', 'of', 'apples', '.', '.']\n",
            ". she has a basket of apples . .\n",
            "{'input_ids': tensor([[ 101, 2002, 3248, 1996,  103, 1999, 1037, 2316, 1012,  102]]), 'token_type_ids': tensor([[0, 0, 0, 0, 0, 0, 0, 0, 0, 0]]), 'attention_mask': tensor([[1, 1, 1, 1, 1, 1, 1, 1, 1, 1]])} torch.Size([1, 10, 30522])\n",
            "tensor([[1012, 2002, 3248, 1996, 2858, 1999, 1037, 2316, 1012, 1012]]) torch.Size([1, 10])\n",
            "tensor([1012, 2002, 3248, 1996, 2858, 1999, 1037, 2316, 1012, 1012])\n",
            "['.', 'he', 'plays', 'the', 'guitar', 'in', 'a', 'band', '.', '.']\n",
            ". he plays the guitar in a band . .\n"
          ]
        }
      ]
    },
    {
      "cell_type": "code",
      "source": [
        "sentence_q5 = \"She went to [MASK] to buy [MASK]\"\n",
        "print(predict_masked_words(sentence_q5, mlm_model, tokenizer))"
      ],
      "metadata": {
        "id": "tb7BZx4ocaPG",
        "colab": {
          "base_uri": "https://localhost:8080/"
        },
        "outputId": "54db2d23-96a9-4871-8a8b-a583a2dabe22"
      },
      "execution_count": null,
      "outputs": [
        {
          "output_type": "stream",
          "name": "stdout",
          "text": [
            "{'input_ids': tensor([[ 101, 2016, 2253, 2000,  103, 2000, 4965,  103,  102]]), 'token_type_ids': tensor([[0, 0, 0, 0, 0, 0, 0, 0, 0]]), 'attention_mask': tensor([[1, 1, 1, 1, 1, 1, 1, 1, 1]])} torch.Size([1, 9, 30522])\n",
            "tensor([[1012, 2016, 2253, 2000, 3006, 2000, 4965, 1012, 1012]]) torch.Size([1, 9])\n",
            "tensor([1012, 2016, 2253, 2000, 3006, 2000, 4965, 1012, 1012])\n",
            "['.', 'she', 'went', 'to', 'market', 'to', 'buy', '.', '.']\n",
            ". she went to market to buy . .\n"
          ]
        }
      ]
    },
    {
      "cell_type": "code",
      "source": [
        "sentence_q6 = \"Elle est allée au marché pour acheter une [MASK].\"\n",
        "print(predict_masked_words(sentence_q6, mlm_model, tokenizer))"
      ],
      "metadata": {
        "colab": {
          "base_uri": "https://localhost:8080/"
        },
        "id": "fBs0vJ0Hdrqa",
        "outputId": "8ff3cb51-7437-4ab1-bb35-1d267e4b87b4"
      },
      "execution_count": null,
      "outputs": [
        {
          "output_type": "stream",
          "name": "stdout",
          "text": [
            "{'input_ids': tensor([[  101, 15317,  9765,  2035,  4402,  8740, 28791, 10364, 12336,  3334,\n",
            "         16655,   103,  1012,   102]]), 'token_type_ids': tensor([[0, 0, 0, 0, 0, 0, 0, 0, 0, 0, 0, 0, 0, 0]]), 'attention_mask': tensor([[1, 1, 1, 1, 1, 1, 1, 1, 1, 1, 1, 1, 1, 1]])} torch.Size([1, 14, 30522])\n",
            "tensor([[ 1012, 15317,  9765,  2035,  4402,  8740, 28791, 10364,  9932,  2102,\n",
            "         16655, 20098,  1012,  1012]]) torch.Size([1, 14])\n",
            "tensor([ 1012, 15317,  9765,  2035,  4402,  8740, 28791, 10364,  9932,  2102,\n",
            "        16655, 20098,  1012,  1012])\n",
            "['.', 'elle', 'est', 'all', '##ee', 'au', 'marche', 'pour', 'ai', '##t', 'une', 'vie', '.', '.']\n",
            ". elle est all ##ee au marche pour ai ##t une vie . .\n"
          ]
        }
      ]
    },
    {
      "cell_type": "code",
      "source": [
        "sentence_q7a = \"She has [MASK] a completely sheltered life\"\n",
        "sentence_q7b = \"A military delegation was [MASK] by the Chief of Staff\"\n",
        "print(predict_masked_words(sentence_q7a, mlm_model, tokenizer))\n",
        "print(predict_masked_words(sentence_q7b, mlm_model, tokenizer))"
      ],
      "metadata": {
        "colab": {
          "base_uri": "https://localhost:8080/"
        },
        "id": "kXqQasEBeKyd",
        "outputId": "2b0c5eaf-af8d-45ec-ece3-1abf949a352f"
      },
      "execution_count": null,
      "outputs": [
        {
          "output_type": "stream",
          "name": "stdout",
          "text": [
            "{'input_ids': tensor([[  101,  2016,  2038,   103,  1037,  3294, 18304,  2166,   102]]), 'token_type_ids': tensor([[0, 0, 0, 0, 0, 0, 0, 0, 0]]), 'attention_mask': tensor([[1, 1, 1, 1, 1, 1, 1, 1, 1]])} torch.Size([1, 9, 30522])\n",
            "tensor([[ 1012,  2016,  2038,  2973,  1037,  3294, 18304,  1012,  1012]]) torch.Size([1, 9])\n",
            "tensor([ 1012,  2016,  2038,  2973,  1037,  3294, 18304,  1012,  1012])\n",
            "['.', 'she', 'has', 'lived', 'a', 'completely', 'sheltered', '.', '.']\n",
            ". she has lived a completely sheltered . .\n",
            "{'input_ids': tensor([[  101,  1037,  2510, 10656,  2001,   103,  2011,  1996,  2708,  1997,\n",
            "          3095,   102]]), 'token_type_ids': tensor([[0, 0, 0, 0, 0, 0, 0, 0, 0, 0, 0, 0]]), 'attention_mask': tensor([[1, 1, 1, 1, 1, 1, 1, 1, 1, 1, 1, 1]])} torch.Size([1, 12, 30522])\n",
            "tensor([[ 1012,  1037,  2510, 10656,  2001,  3753,  2011,  1996,  2708,  1997,\n",
            "          3095,  1012]]) torch.Size([1, 12])\n",
            "tensor([ 1012,  1037,  2510, 10656,  2001,  3753,  2011,  1996,  2708,  1997,\n",
            "         3095,  1012])\n",
            "['.', 'a', 'military', 'delegation', 'was', 'headed', 'by', 'the', 'chief', 'of', 'staff', '.']\n",
            ". a military delegation was headed by the chief of staff .\n"
          ]
        }
      ]
    },
    {
      "cell_type": "code",
      "source": [
        "sentence_q8 = \"Let's tailgate before the game and grill some [MASK].\"\n",
        "print(predict_masked_words(sentence_q8, mlm_model, tokenizer))"
      ],
      "metadata": {
        "colab": {
          "base_uri": "https://localhost:8080/"
        },
        "id": "kez-TKp5OiQl",
        "outputId": "06bbdcb1-b789-4d40-d85e-7d9a936b0105"
      },
      "execution_count": null,
      "outputs": [
        {
          "output_type": "stream",
          "name": "stdout",
          "text": [
            "{'input_ids': tensor([[  101,  2292,  1005,  1055,  5725,  5867,  2077,  1996,  2208,  1998,\n",
            "         18651,  2070,   103,  1012,   102]]), 'token_type_ids': tensor([[0, 0, 0, 0, 0, 0, 0, 0, 0, 0, 0, 0, 0, 0, 0]]), 'attention_mask': tensor([[1, 1, 1, 1, 1, 1, 1, 1, 1, 1, 1, 1, 1, 1, 1]])} torch.Size([1, 15, 30522])\n",
            "tensor([[ 1012,  2292,  1005,  1055,  5725,  5867,  2077,  1996,  2208,  1998,\n",
            "         18651,  2070, 21475,  1012,  1012]]) torch.Size([1, 15])\n",
            "tensor([ 1012,  2292,  1005,  1055,  5725,  5867,  2077,  1996,  2208,  1998,\n",
            "        18651,  2070, 21475,  1012,  1012])\n",
            "['.', 'let', \"'\", 's', 'tail', '##gate', 'before', 'the', 'game', 'and', 'grill', 'some', 'steak', '.', '.']\n",
            ". let ' s tail ##gate before the game and grill some steak . .\n"
          ]
        }
      ]
    },
    {
      "cell_type": "code",
      "source": [
        "sentence_q9 = \"It costs an [MASK] and leg\"\n",
        "print(predict_masked_words(sentence_q9, mlm_model, tokenizer))"
      ],
      "metadata": {
        "colab": {
          "base_uri": "https://localhost:8080/"
        },
        "id": "idTOE8YlOi6T",
        "outputId": "281026d9-985b-4344-bf30-c771ea6c3d80"
      },
      "execution_count": null,
      "outputs": [
        {
          "output_type": "stream",
          "name": "stdout",
          "text": [
            "{'input_ids': tensor([[ 101, 2009, 5366, 2019,  103, 1998, 4190,  102]]), 'token_type_ids': tensor([[0, 0, 0, 0, 0, 0, 0, 0]]), 'attention_mask': tensor([[1, 1, 1, 1, 1, 1, 1, 1]])} torch.Size([1, 8, 30522])\n",
            "tensor([[1012, 2009, 5366, 2019, 3178, 1998, 1012, 1012]]) torch.Size([1, 8])\n",
            "tensor([1012, 2009, 5366, 2019, 3178, 1998, 1012, 1012])\n",
            "['.', 'it', 'costs', 'an', 'hour', 'and', '.', '.']\n",
            ". it costs an hour and . .\n"
          ]
        }
      ]
    }
  ],
  "metadata": {
    "colab": {
      "provenance": [],
      "authorship_tag": "ABX9TyN6xArXdRPG8Lw9GAio7sAl"
    },
    "kernelspec": {
      "display_name": "Python 3",
      "name": "python3"
    },
    "language_info": {
      "name": "python"
    },
    "accelerator": "TPU"
  },
  "nbformat": 4,
  "nbformat_minor": 0
}